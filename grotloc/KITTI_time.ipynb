{
 "cells": [
  {
   "cell_type": "code",
   "execution_count": null,
   "metadata": {},
   "outputs": [],
   "source": [
    "import numpy as np"
   ]
  },
  {
   "cell_type": "code",
   "execution_count": null,
   "metadata": {},
   "outputs": [],
   "source": [
    "f_poses = open(\"D:\\\\datasets\\\\KITTI_dataset\\\\KITTI_odometry\\\\poses\\\\00.txt\")\n",
    "poses = f_poses.readlines()\n",
    "poses = [pose.replace(\"\\n\", \"\").split(\" \") for pose in poses]\n",
    "f_poses.close()\n",
    "\n",
    "f_time = open(\"D:\\\\datasets\\\\KITTI_dataset\\\\KITTI_odometry\\\\sequences\\\\00\\\\times.txt\")\n",
    "times = f_time.readlines()\n",
    "times = [time.replace(\"\\n\", \"\").split(\" \") for time in times]\n",
    "f_time.close()\n",
    "\n",
    "f = open(\"kitti_00.txt\", \"a\")\n",
    "for i in range(len(times)):\n",
    "    line = times[i][0]\n",
    "    for j in range(len(poses[i])):\n",
    "        line = line + \" \" +  poses[i][j]\n",
    "    print(line)\n",
    "    f.write(line + \"\\n\")\n",
    "f.close()\n"
   ]
  }
 ],
 "metadata": {
  "language_info": {
   "name": "python"
  },
  "orig_nbformat": 4
 },
 "nbformat": 4,
 "nbformat_minor": 2
}
