{
 "cells": [
  {
   "cell_type": "code",
   "execution_count": 114,
   "metadata": {},
   "outputs": [],
   "source": [
    "import numpy as np\n",
    "import matplotlib.pyplot as plt"
   ]
  },
  {
   "cell_type": "code",
   "execution_count": 115,
   "metadata": {},
   "outputs": [],
   "source": [
    "f_pairs = open(\"pairs\\\\kitti_10_pairs.txt\")\n",
    "pairs = f_pairs.readlines()\n",
    "pairs = [pair.replace(\"\\n\", \"\") for pair in pairs]\n",
    "pairs = [tuple(map(int, pair.replace(\"(\", \"\").replace(\")\", \"\").split(\",\"))) for pair in pairs]"
   ]
  },
  {
   "cell_type": "code",
   "execution_count": 116,
   "metadata": {},
   "outputs": [],
   "source": [
    "f_poses = open(\"D:\\\\datasets\\\\KITTI_dataset\\\\KITTI_odometry\\\\poses\\\\10.txt\")\n",
    "poses = f_poses.readlines()\n",
    "poses = [pose.replace(\"\\n\", \"\").split(\" \") for pose in poses]\n",
    "\n",
    "z = []\n",
    "x = []\n",
    "for pose in poses:\n",
    "    z.append(float(pose[11]))\n",
    "    x.append(float(pose[3]))\n",
    "\n",
    "x = np.array(x)\n",
    "z = np.array(z)\n",
    "    "
   ]
  },
  {
   "cell_type": "code",
   "execution_count": 117,
   "metadata": {},
   "outputs": [],
   "source": [
    "size = len(z)\n",
    "\n",
    "loop_gt = np.zeros((size, size))\n",
    "loop_to_draw = np.zeros((size, size))"
   ]
  },
  {
   "cell_type": "code",
   "execution_count": 118,
   "metadata": {},
   "outputs": [],
   "source": [
    "for pair in pairs:\n",
    "    loop_gt[pair[0], pair[1]] = 1\n",
    "    if pair[0] != pair[1] and abs(pair[0] - pair[1]) > 5:\n",
    "        loop_to_draw[pair[0], pair[1]] = 1"
   ]
  },
  {
   "cell_type": "code",
   "execution_count": 119,
   "metadata": {},
   "outputs": [
    {
     "data": {
      "text/plain": [
       "<matplotlib.collections.PathCollection at 0x22b5862bc10>"
      ]
     },
     "execution_count": 119,
     "metadata": {},
     "output_type": "execute_result"
    },
    {
     "data": {
      "image/png": "[encoded data removed]",
      "text/plain": [
       "<Figure size 432x288 with 1 Axes>"
      ]
     },
     "metadata": {
      "needs_background": "light"
     },
     "output_type": "display_data"
    }
   ],
   "source": [
    "plt.plot(x, z)\n",
    "\n",
    "indices, _ = np.where(loop_to_draw > 0)\n",
    "\n",
    "x_coord = x[indices]\n",
    "z_coord = z[indices]\n",
    "\n",
    "plt.scatter(x_coord, z_coord, color = \"red\")"
   ]
  }
 ],
 "metadata": {
  "kernelspec": {
   "display_name": "Python 3.9.7 ('pytorch')",
   "language": "python",
   "name": "python3"
  },
  "language_info": {
   "codemirror_mode": {
    "name": "ipython",
    "version": 3
   },
   "file_extension": ".py",
   "mimetype": "text/x-python",
   "name": "python",
   "nbconvert_exporter": "python",
   "pygments_lexer": "ipython3",
   "version": "3.9.7"
  },
  "orig_nbformat": 4,
  "vscode": {
   "interpreter": {
    "hash": "c31e813e19f315d9f9278dcc43a673bebd6dcc7a7cbcda7f6e8a935527ba3f87"
   }
  }
 },
 "nbformat": 4,
 "nbformat_minor": 2
}
